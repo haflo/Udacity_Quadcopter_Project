{
 "cells": [
  {
   "cell_type": "markdown",
   "metadata": {},
   "source": [
    "## Agent"
   ]
  },
  {
   "cell_type": "markdown",
   "metadata": {},
   "source": [
    "### Wie funktioniert Agent gerade?\n",
    "1. Reduzierung num_episodes auf 1\n",
    "2. Print Reward für jedes Ergebnis einbauen"
   ]
  },
  {
   "cell_type": "code",
   "execution_count": 1,
   "metadata": {},
   "outputs": [],
   "source": [
    "reward  =[2.996698696870397,\n",
    "2.948105214601397,\n",
    "2.8175164678607842,\n",
    "2.6067019981430097,\n",
    "2.3165596803839943,\n",
    "1.9579461611591495,\n",
    "1.5476968876148356,\n",
    "1.0980396610633578,\n",
    "0.6103328703104189,\n",
    "0.07797623166321088,\n",
    "-0.501945912717592,\n",
    "-1.1007930841524927,\n",
    "-1.7012494749598932,\n",
    "-2.3484990177282175,\n",
    "-3.0601350610601683,\n",
    "-3.7861156556310136,\n",
    "-4.549488831803151,\n",
    "-5.35301171496091,\n",
    "-6.202424469180244,\n",
    "-7.104039959189143,\n",
    "-8.052794819921125,\n",
    "-8.805607705456335]"
   ]
  },
  {
   "cell_type": "code",
   "execution_count": 2,
   "metadata": {},
   "outputs": [
    {
     "data": {
      "text/plain": [
       "-33.58853183708973"
      ]
     },
     "execution_count": 2,
     "metadata": {},
     "output_type": "execute_result"
    }
   ],
   "source": [
    "sum(reward)"
   ]
  },
  {
   "cell_type": "code",
   "execution_count": 3,
   "metadata": {},
   "outputs": [
    {
     "data": {
      "text/plain": [
       "-1.5267514471404424"
      ]
     },
     "execution_count": 3,
     "metadata": {},
     "output_type": "execute_result"
    }
   ],
   "source": [
    "sum(reward)/len(reward)"
   ]
  },
  {
   "cell_type": "code",
   "execution_count": 4,
   "metadata": {},
   "outputs": [
    {
     "data": {
      "text/plain": [
       "22"
      ]
     },
     "execution_count": 4,
     "metadata": {},
     "output_type": "execute_result"
    }
   ],
   "source": [
    "len(reward)"
   ]
  },
  {
   "cell_type": "markdown",
   "metadata": {},
   "source": [
    "Und das ist der Score einer Episode!!!"
   ]
  },
  {
   "cell_type": "markdown",
   "metadata": {},
   "source": [
    "### Welche Länge hat eine Episode?\n",
    "\n",
    "Limit kommt von runtime (hier runtime=5.) in Task initialierung. Wenn runtime = .1, dann wirklich nur 2 Epsioden"
   ]
  },
  {
   "cell_type": "markdown",
   "metadata": {},
   "source": [
    "# Wo befindet sich jeweils der Quadcopter"
   ]
  },
  {
   "cell_type": "markdown",
   "metadata": {},
   "source": [
    "# Define quadcopter ipnyo"
   ]
  },
  {
   "cell_type": "markdown",
   "metadata": {},
   "source": [
    "1. Kopiere erstmal Agent\n",
    "2. Ändere from agents.policy_search in from agents. import DDPG\n",
    "3. Code Agent\n",
    "4. Code task_amended"
   ]
  },
  {
   "cell_type": "markdown",
   "metadata": {},
   "source": [
    "### Code Task_amended\n",
    "\n",
    "1. Copy normal task"
   ]
  },
  {
   "cell_type": "markdown",
   "metadata": {},
   "source": [
    "### Change Agent\n",
    "\n",
    "1. Importiere allen stuff von udacity"
   ]
  }
 ],
 "metadata": {
  "kernelspec": {
   "display_name": "Python 3",
   "language": "python",
   "name": "python3"
  },
  "language_info": {
   "codemirror_mode": {
    "name": "ipython",
    "version": 3
   },
   "file_extension": ".py",
   "mimetype": "text/x-python",
   "name": "python",
   "nbconvert_exporter": "python",
   "pygments_lexer": "ipython3",
   "version": "3.7.3"
  }
 },
 "nbformat": 4,
 "nbformat_minor": 2
}
